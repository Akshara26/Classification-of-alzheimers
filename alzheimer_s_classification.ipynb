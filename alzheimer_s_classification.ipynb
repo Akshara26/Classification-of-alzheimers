{
  "cells": [
    {
      "cell_type": "code",
      "execution_count": null,
      "metadata": {
        "id": "eq20JLTDSzQI"
      },
      "outputs": [],
      "source": [
        "import pandas as pd \n",
        "import numpy as np \n",
        "%matplotlib inline\n",
        "import matplotlib.pyplot as plt\n",
        "import matplotlib.colors as colors\n",
        "from sklearn.utils import resample #  downsample the dataset\n",
        "from sklearn.model_selection import train_test_split #  splitting the dataset into train and test split\n",
        "from sklearn.preprocessing import scale # scale and center the data\n",
        "from sklearn.svm import SVC #  SVM for classification\n",
        "from sklearn.model_selection import GridSearchCV\n",
        "from sklearn.model_selection import RandomizedSearchCV #  cross validation\n",
        "from sklearn.metrics import plot_confusion_matrix #  draw the confusion matrix\n",
        "from sklearn.decomposition import PCA #  perform PCA to plot the data\n",
        "from sklearn.impute import SimpleImputer\n",
        "from sklearn.ensemble import BaggingClassifier\n",
        "from sklearn.preprocessing import StandardScaler, MinMaxScaler\n",
        "from sklearn.model_selection import cross_val_score\n",
        "from sklearn.metrics import confusion_matrix, precision_score, accuracy_score, recall_score, roc_curve, auc\n",
        "from sklearn.metrics import f1_score\n",
        "from sklearn.naive_bayes import GaussianNB\n",
        "from sklearn.naive_bayes import MultinomialNB\n",
        "from xgboost import XGBClassifier\n",
        "import seaborn as sns"
      ]
    },
    {
      "cell_type": "code",
      "execution_count": null,
      "metadata": {
        "id": "QI7SUXlOSzQL"
      },
      "outputs": [],
      "source": [
        "data = pd.read_csv(\"oasis_longitudinal.csv\")"
      ]
    },
    {
      "cell_type": "code",
      "execution_count": null,
      "metadata": {
        "id": "BKbw6PztSzQM"
      },
      "outputs": [],
      "source": [
        "pd.set_option('display.max_columns', None) # shows the columns \n",
        "pd.set_option('display.max_rows', None)"
      ]
    },
    {
      "cell_type": "code",
      "execution_count": null,
      "metadata": {
        "colab": {
          "base_uri": "https://localhost:8080/",
          "height": 287
        },
        "id": "YY5Dn_UxSzQM",
        "outputId": "0e719d27-e6ff-4dec-c78b-63897502c5a6"
      },
      "outputs": [
        {
          "output_type": "execute_result",
          "data": {
            "text/plain": [
              "  Subject ID         MRI ID        Group  Visit  MR Delay M/F Hand  Age  EDUC  \\\n",
              "0  OAS2_0001  OAS2_0001_MR1  Nondemented      1         0   M    R   87    14   \n",
              "1  OAS2_0001  OAS2_0001_MR2  Nondemented      2       457   M    R   88    14   \n",
              "2  OAS2_0002  OAS2_0002_MR1     Demented      1         0   M    R   75    12   \n",
              "3  OAS2_0002  OAS2_0002_MR2     Demented      2       560   M    R   76    12   \n",
              "4  OAS2_0002  OAS2_0002_MR3     Demented      3      1895   M    R   80    12   \n",
              "\n",
              "   SES  MMSE  CDR  eTIV   nWBV    ASF  \n",
              "0  2.0  27.0  0.0  1987  0.696  0.883  \n",
              "1  2.0  30.0  0.0  2004  0.681  0.876  \n",
              "2  NaN  23.0  0.5  1678  0.736  1.046  \n",
              "3  NaN  28.0  0.5  1738  0.713  1.010  \n",
              "4  NaN  22.0  0.5  1698  0.701  1.034  "
            ],
            "text/html": [
              "\n",
              "  <div id=\"df-7f4b2763-6f32-4e73-a2e3-595ec552bb4b\">\n",
              "    <div class=\"colab-df-container\">\n",
              "      <div>\n",
              "<style scoped>\n",
              "    .dataframe tbody tr th:only-of-type {\n",
              "        vertical-align: middle;\n",
              "    }\n",
              "\n",
              "    .dataframe tbody tr th {\n",
              "        vertical-align: top;\n",
              "    }\n",
              "\n",
              "    .dataframe thead th {\n",
              "        text-align: right;\n",
              "    }\n",
              "</style>\n",
              "<table border=\"1\" class=\"dataframe\">\n",
              "  <thead>\n",
              "    <tr style=\"text-align: right;\">\n",
              "      <th></th>\n",
              "      <th>Subject ID</th>\n",
              "      <th>MRI ID</th>\n",
              "      <th>Group</th>\n",
              "      <th>Visit</th>\n",
              "      <th>MR Delay</th>\n",
              "      <th>M/F</th>\n",
              "      <th>Hand</th>\n",
              "      <th>Age</th>\n",
              "      <th>EDUC</th>\n",
              "      <th>SES</th>\n",
              "      <th>MMSE</th>\n",
              "      <th>CDR</th>\n",
              "      <th>eTIV</th>\n",
              "      <th>nWBV</th>\n",
              "      <th>ASF</th>\n",
              "    </tr>\n",
              "  </thead>\n",
              "  <tbody>\n",
              "    <tr>\n",
              "      <th>0</th>\n",
              "      <td>OAS2_0001</td>\n",
              "      <td>OAS2_0001_MR1</td>\n",
              "      <td>Nondemented</td>\n",
              "      <td>1</td>\n",
              "      <td>0</td>\n",
              "      <td>M</td>\n",
              "      <td>R</td>\n",
              "      <td>87</td>\n",
              "      <td>14</td>\n",
              "      <td>2.0</td>\n",
              "      <td>27.0</td>\n",
              "      <td>0.0</td>\n",
              "      <td>1987</td>\n",
              "      <td>0.696</td>\n",
              "      <td>0.883</td>\n",
              "    </tr>\n",
              "    <tr>\n",
              "      <th>1</th>\n",
              "      <td>OAS2_0001</td>\n",
              "      <td>OAS2_0001_MR2</td>\n",
              "      <td>Nondemented</td>\n",
              "      <td>2</td>\n",
              "      <td>457</td>\n",
              "      <td>M</td>\n",
              "      <td>R</td>\n",
              "      <td>88</td>\n",
              "      <td>14</td>\n",
              "      <td>2.0</td>\n",
              "      <td>30.0</td>\n",
              "      <td>0.0</td>\n",
              "      <td>2004</td>\n",
              "      <td>0.681</td>\n",
              "      <td>0.876</td>\n",
              "    </tr>\n",
              "    <tr>\n",
              "      <th>2</th>\n",
              "      <td>OAS2_0002</td>\n",
              "      <td>OAS2_0002_MR1</td>\n",
              "      <td>Demented</td>\n",
              "      <td>1</td>\n",
              "      <td>0</td>\n",
              "      <td>M</td>\n",
              "      <td>R</td>\n",
              "      <td>75</td>\n",
              "      <td>12</td>\n",
              "      <td>NaN</td>\n",
              "      <td>23.0</td>\n",
              "      <td>0.5</td>\n",
              "      <td>1678</td>\n",
              "      <td>0.736</td>\n",
              "      <td>1.046</td>\n",
              "    </tr>\n",
              "    <tr>\n",
              "      <th>3</th>\n",
              "      <td>OAS2_0002</td>\n",
              "      <td>OAS2_0002_MR2</td>\n",
              "      <td>Demented</td>\n",
              "      <td>2</td>\n",
              "      <td>560</td>\n",
              "      <td>M</td>\n",
              "      <td>R</td>\n",
              "      <td>76</td>\n",
              "      <td>12</td>\n",
              "      <td>NaN</td>\n",
              "      <td>28.0</td>\n",
              "      <td>0.5</td>\n",
              "      <td>1738</td>\n",
              "      <td>0.713</td>\n",
              "      <td>1.010</td>\n",
              "    </tr>\n",
              "    <tr>\n",
              "      <th>4</th>\n",
              "      <td>OAS2_0002</td>\n",
              "      <td>OAS2_0002_MR3</td>\n",
              "      <td>Demented</td>\n",
              "      <td>3</td>\n",
              "      <td>1895</td>\n",
              "      <td>M</td>\n",
              "      <td>R</td>\n",
              "      <td>80</td>\n",
              "      <td>12</td>\n",
              "      <td>NaN</td>\n",
              "      <td>22.0</td>\n",
              "      <td>0.5</td>\n",
              "      <td>1698</td>\n",
              "      <td>0.701</td>\n",
              "      <td>1.034</td>\n",
              "    </tr>\n",
              "  </tbody>\n",
              "</table>\n",
              "</div>\n",
              "      <button class=\"colab-df-convert\" onclick=\"convertToInteractive('df-7f4b2763-6f32-4e73-a2e3-595ec552bb4b')\"\n",
              "              title=\"Convert this dataframe to an interactive table.\"\n",
              "              style=\"display:none;\">\n",
              "        \n",
              "  <svg xmlns=\"http://www.w3.org/2000/svg\" height=\"24px\"viewBox=\"0 0 24 24\"\n",
              "       width=\"24px\">\n",
              "    <path d=\"M0 0h24v24H0V0z\" fill=\"none\"/>\n",
              "    <path d=\"M18.56 5.44l.94 2.06.94-2.06 2.06-.94-2.06-.94-.94-2.06-.94 2.06-2.06.94zm-11 1L8.5 8.5l.94-2.06 2.06-.94-2.06-.94L8.5 2.5l-.94 2.06-2.06.94zm10 10l.94 2.06.94-2.06 2.06-.94-2.06-.94-.94-2.06-.94 2.06-2.06.94z\"/><path d=\"M17.41 7.96l-1.37-1.37c-.4-.4-.92-.59-1.43-.59-.52 0-1.04.2-1.43.59L10.3 9.45l-7.72 7.72c-.78.78-.78 2.05 0 2.83L4 21.41c.39.39.9.59 1.41.59.51 0 1.02-.2 1.41-.59l7.78-7.78 2.81-2.81c.8-.78.8-2.07 0-2.86zM5.41 20L4 18.59l7.72-7.72 1.47 1.35L5.41 20z\"/>\n",
              "  </svg>\n",
              "      </button>\n",
              "      \n",
              "  <style>\n",
              "    .colab-df-container {\n",
              "      display:flex;\n",
              "      flex-wrap:wrap;\n",
              "      gap: 12px;\n",
              "    }\n",
              "\n",
              "    .colab-df-convert {\n",
              "      background-color: #E8F0FE;\n",
              "      border: none;\n",
              "      border-radius: 50%;\n",
              "      cursor: pointer;\n",
              "      display: none;\n",
              "      fill: #1967D2;\n",
              "      height: 32px;\n",
              "      padding: 0 0 0 0;\n",
              "      width: 32px;\n",
              "    }\n",
              "\n",
              "    .colab-df-convert:hover {\n",
              "      background-color: #E2EBFA;\n",
              "      box-shadow: 0px 1px 2px rgba(60, 64, 67, 0.3), 0px 1px 3px 1px rgba(60, 64, 67, 0.15);\n",
              "      fill: #174EA6;\n",
              "    }\n",
              "\n",
              "    [theme=dark] .colab-df-convert {\n",
              "      background-color: #3B4455;\n",
              "      fill: #D2E3FC;\n",
              "    }\n",
              "\n",
              "    [theme=dark] .colab-df-convert:hover {\n",
              "      background-color: #434B5C;\n",
              "      box-shadow: 0px 1px 3px 1px rgba(0, 0, 0, 0.15);\n",
              "      filter: drop-shadow(0px 1px 2px rgba(0, 0, 0, 0.3));\n",
              "      fill: #FFFFFF;\n",
              "    }\n",
              "  </style>\n",
              "\n",
              "      <script>\n",
              "        const buttonEl =\n",
              "          document.querySelector('#df-7f4b2763-6f32-4e73-a2e3-595ec552bb4b button.colab-df-convert');\n",
              "        buttonEl.style.display =\n",
              "          google.colab.kernel.accessAllowed ? 'block' : 'none';\n",
              "\n",
              "        async function convertToInteractive(key) {\n",
              "          const element = document.querySelector('#df-7f4b2763-6f32-4e73-a2e3-595ec552bb4b');\n",
              "          const dataTable =\n",
              "            await google.colab.kernel.invokeFunction('convertToInteractive',\n",
              "                                                     [key], {});\n",
              "          if (!dataTable) return;\n",
              "\n",
              "          const docLinkHtml = 'Like what you see? Visit the ' +\n",
              "            '<a target=\"_blank\" href=https://colab.research.google.com/notebooks/data_table.ipynb>data table notebook</a>'\n",
              "            + ' to learn more about interactive tables.';\n",
              "          element.innerHTML = '';\n",
              "          dataTable['output_type'] = 'display_data';\n",
              "          await google.colab.output.renderOutput(dataTable, element);\n",
              "          const docLink = document.createElement('div');\n",
              "          docLink.innerHTML = docLinkHtml;\n",
              "          element.appendChild(docLink);\n",
              "        }\n",
              "      </script>\n",
              "    </div>\n",
              "  </div>\n",
              "  "
            ]
          },
          "metadata": {},
          "execution_count": 95
        }
      ],
      "source": [
        "data.head()\n"
      ]
    },
    {
      "cell_type": "code",
      "execution_count": null,
      "metadata": {
        "colab": {
          "base_uri": "https://localhost:8080/"
        },
        "id": "ZvSypuAzSzQN",
        "outputId": "2f5321c0-315f-4fc0-80b9-a0731adb783c"
      },
      "outputs": [
        {
          "output_type": "execute_result",
          "data": {
            "text/plain": [
              "(373, 15)"
            ]
          },
          "metadata": {},
          "execution_count": 96
        }
      ],
      "source": [
        "data.shape"
      ]
    },
    {
      "cell_type": "code",
      "execution_count": null,
      "metadata": {
        "colab": {
          "base_uri": "https://localhost:8080/"
        },
        "id": "eKHlRTZpSzQN",
        "outputId": "97590b77-4be2-4358-ff1b-b1ff1fc2a847"
      },
      "outputs": [
        {
          "output_type": "stream",
          "name": "stdout",
          "text": [
            "<class 'pandas.core.frame.DataFrame'>\n",
            "RangeIndex: 373 entries, 0 to 372\n",
            "Data columns (total 15 columns):\n",
            " #   Column      Non-Null Count  Dtype  \n",
            "---  ------      --------------  -----  \n",
            " 0   Subject ID  373 non-null    object \n",
            " 1   MRI ID      373 non-null    object \n",
            " 2   Group       373 non-null    object \n",
            " 3   Visit       373 non-null    int64  \n",
            " 4   MR Delay    373 non-null    int64  \n",
            " 5   M/F         373 non-null    object \n",
            " 6   Hand        373 non-null    object \n",
            " 7   Age         373 non-null    int64  \n",
            " 8   EDUC        373 non-null    int64  \n",
            " 9   SES         354 non-null    float64\n",
            " 10  MMSE        371 non-null    float64\n",
            " 11  CDR         373 non-null    float64\n",
            " 12  eTIV        373 non-null    int64  \n",
            " 13  nWBV        373 non-null    float64\n",
            " 14  ASF         373 non-null    float64\n",
            "dtypes: float64(5), int64(5), object(5)\n",
            "memory usage: 43.8+ KB\n"
          ]
        }
      ],
      "source": [
        "data.info()"
      ]
    },
    {
      "cell_type": "code",
      "execution_count": null,
      "metadata": {
        "colab": {
          "base_uri": "https://localhost:8080/"
        },
        "id": "yHmRXskPSzQO",
        "outputId": "99793766-cbe6-47df-9cc8-8ad108b8a372"
      },
      "outputs": [
        {
          "output_type": "stream",
          "name": "stdout",
          "text": [
            "<class 'pandas.core.frame.DataFrame'>\n",
            "RangeIndex: 373 entries, 0 to 372\n",
            "Data columns (total 15 columns):\n",
            " #   Column      Non-Null Count  Dtype  \n",
            "---  ------      --------------  -----  \n",
            " 0   Subject ID  373 non-null    object \n",
            " 1   MRI ID      373 non-null    object \n",
            " 2   Group       373 non-null    int64  \n",
            " 3   Visit       373 non-null    int64  \n",
            " 4   MR Delay    373 non-null    int64  \n",
            " 5   M/F         373 non-null    int64  \n",
            " 6   Hand        373 non-null    object \n",
            " 7   Age         373 non-null    int64  \n",
            " 8   EDUC        373 non-null    int64  \n",
            " 9   SES         354 non-null    float64\n",
            " 10  MMSE        371 non-null    float64\n",
            " 11  CDR         373 non-null    float64\n",
            " 12  eTIV        373 non-null    int64  \n",
            " 13  nWBV        373 non-null    float64\n",
            " 14  ASF         373 non-null    float64\n",
            "dtypes: float64(5), int64(7), object(3)\n",
            "memory usage: 43.8+ KB\n"
          ]
        }
      ],
      "source": [
        "data['M/F'] = [1 if each == \"M\" else 0 for each in data['M/F']]\n",
        "data['Group'] = [1 if each == \"Demented\" or each == \"Converted\" else 0 for each in data['Group']]\n",
        "data.info()"
      ]
    },
    {
      "cell_type": "code",
      "execution_count": null,
      "metadata": {
        "colab": {
          "base_uri": "https://localhost:8080/"
        },
        "id": "aOIcVD4_SzQO",
        "outputId": "4a4cf8ab-1b82-4603-dc08-30fe3e922e20"
      },
      "outputs": [
        {
          "output_type": "execute_result",
          "data": {
            "text/plain": [
              "Subject ID     0\n",
              "MRI ID         0\n",
              "Group          0\n",
              "Visit          0\n",
              "MR Delay       0\n",
              "M/F            0\n",
              "Hand           0\n",
              "Age            0\n",
              "EDUC           0\n",
              "SES           19\n",
              "MMSE           2\n",
              "CDR            0\n",
              "eTIV           0\n",
              "nWBV           0\n",
              "ASF            0\n",
              "dtype: int64"
            ]
          },
          "metadata": {},
          "execution_count": 99
        }
      ],
      "source": [
        "data.isnull().sum()"
      ]
    },
    {
      "cell_type": "code",
      "execution_count": null,
      "metadata": {
        "colab": {
          "base_uri": "https://localhost:8080/"
        },
        "id": "0NUAY1Z3SzQP",
        "outputId": "13581b32-3c19-4895-9a21-17d6fe0dd6ec"
      },
      "outputs": [
        {
          "output_type": "execute_result",
          "data": {
            "text/plain": [
              "Subject ID     0\n",
              "MRI ID         0\n",
              "Group          0\n",
              "Visit          0\n",
              "MR Delay       0\n",
              "M/F            0\n",
              "Hand           0\n",
              "Age            0\n",
              "EDUC           0\n",
              "SES           19\n",
              "MMSE           0\n",
              "CDR            0\n",
              "eTIV           0\n",
              "nWBV           0\n",
              "ASF            0\n",
              "dtype: int64"
            ]
          },
          "metadata": {},
          "execution_count": 100
        }
      ],
      "source": [
        "median = data['MMSE'].median()\n",
        "data['MMSE'].fillna(median, inplace=True)\n",
        "data.isnull().sum()"
      ]
    },
    {
      "cell_type": "code",
      "execution_count": null,
      "metadata": {
        "colab": {
          "base_uri": "https://localhost:8080/"
        },
        "id": "7T0fraawSzQQ",
        "outputId": "edb7d502-945f-4546-a2dc-fce6fbc87dad"
      },
      "outputs": [
        {
          "output_type": "execute_result",
          "data": {
            "text/plain": [
              "Subject ID    0\n",
              "MRI ID        0\n",
              "Group         0\n",
              "Visit         0\n",
              "MR Delay      0\n",
              "M/F           0\n",
              "Hand          0\n",
              "Age           0\n",
              "EDUC          0\n",
              "SES           0\n",
              "MMSE          0\n",
              "CDR           0\n",
              "eTIV          0\n",
              "nWBV          0\n",
              "ASF           0\n",
              "dtype: int64"
            ]
          },
          "metadata": {},
          "execution_count": 101
        }
      ],
      "source": [
        "median = data['SES'].median()\n",
        "data['SES'].fillna(median, inplace=True)\n",
        "data.isnull().sum()"
      ]
    },
    {
      "cell_type": "code",
      "execution_count": null,
      "metadata": {
        "id": "VJ4vUD8MSzQQ"
      },
      "outputs": [],
      "source": [
        "y = data['Group'].values\n",
        "X = data[['M/F', 'SES', 'ASF', 'Age', 'eTIV','MMSE', 'nWBV', 'EDUC', 'CDR']]"
      ]
    },
    {
      "cell_type": "code",
      "execution_count": null,
      "metadata": {
        "colab": {
          "base_uri": "https://localhost:8080/"
        },
        "id": "YVaj5FNHSzQQ",
        "outputId": "ebcbc49a-7280-4d05-b9a1-1219c600b557"
      },
      "outputs": [
        {
          "output_type": "stream",
          "name": "stdout",
          "text": [
            "<class 'pandas.core.frame.DataFrame'>\n",
            "RangeIndex: 373 entries, 0 to 372\n",
            "Data columns (total 15 columns):\n",
            " #   Column      Non-Null Count  Dtype  \n",
            "---  ------      --------------  -----  \n",
            " 0   Subject ID  373 non-null    object \n",
            " 1   MRI ID      373 non-null    object \n",
            " 2   Group       373 non-null    int64  \n",
            " 3   Visit       373 non-null    int64  \n",
            " 4   MR Delay    373 non-null    int64  \n",
            " 5   M/F         373 non-null    int64  \n",
            " 6   Hand        373 non-null    object \n",
            " 7   Age         373 non-null    int64  \n",
            " 8   EDUC        373 non-null    int64  \n",
            " 9   SES         373 non-null    float64\n",
            " 10  MMSE        373 non-null    float64\n",
            " 11  CDR         373 non-null    float64\n",
            " 12  eTIV        373 non-null    int64  \n",
            " 13  nWBV        373 non-null    float64\n",
            " 14  ASF         373 non-null    float64\n",
            "dtypes: float64(5), int64(7), object(3)\n",
            "memory usage: 43.8+ KB\n"
          ]
        }
      ],
      "source": [
        "data.info()"
      ]
    },
    {
      "cell_type": "code",
      "execution_count": null,
      "metadata": {
        "colab": {
          "base_uri": "https://localhost:8080/"
        },
        "id": "A81qoq6dSzQR",
        "outputId": "524ee963-491f-407d-f7a6-9cc605cc5a22"
      },
      "outputs": [
        {
          "output_type": "stream",
          "name": "stdout",
          "text": [
            "In Training Split:\n",
            "0    142\n",
            "1    137\n",
            "Name: 0, dtype: int64\n",
            "\n",
            "In Testing Split:\n",
            "0    48\n",
            "1    46\n",
            "Name: 0, dtype: int64\n"
          ]
        }
      ],
      "source": [
        "X_trainval, X_test, y_trainval, y_test = train_test_split(X, y, test_size= 0.25, random_state=42, stratify=y)\n",
        "\n",
        "\n",
        "df_ytrain = pd.DataFrame(y_trainval)\n",
        "df_ytest = pd.DataFrame(y_test)\n",
        "\n",
        "print('In Training Split:')\n",
        "print(df_ytrain[0].value_counts())\n",
        "\n",
        "print('\\nIn Testing Split:')\n",
        "print(df_ytest[0].value_counts())"
      ]
    },
    {
      "cell_type": "code",
      "execution_count": null,
      "metadata": {
        "colab": {
          "base_uri": "https://localhost:8080/"
        },
        "id": "RmUpmyb9SzQR",
        "outputId": "9a1f9797-f10b-4b1e-865a-e0ad43766b8e"
      },
      "outputs": [
        {
          "output_type": "execute_result",
          "data": {
            "text/plain": [
              "Group       1.000000\n",
              "CDR         0.778049\n",
              "M/F         0.222146\n",
              "SES         0.038870\n",
              "ASF         0.032495\n",
              "Age        -0.005941\n",
              "eTIV       -0.042700\n",
              "Visit      -0.095507\n",
              "MR Delay   -0.120638\n",
              "EDUC       -0.193060\n",
              "nWBV       -0.311346\n",
              "MMSE       -0.520553\n",
              "Name: Group, dtype: float64"
            ]
          },
          "metadata": {},
          "execution_count": 105
        }
      ],
      "source": [
        "correlation_matrix = data.corr()\n",
        "data_corr = correlation_matrix['Group'].sort_values(ascending=False)\n",
        "data_corr"
      ]
    },
    {
      "cell_type": "code",
      "execution_count": null,
      "metadata": {
        "id": "gO2U2FSCSzQS"
      },
      "outputs": [],
      "source": [
        "scaler = StandardScaler().fit(X_trainval)\n",
        "X_trainval_scaled = scaler.transform(X_trainval)\n",
        "X_test_scaled = scaler.transform(X_test)"
      ]
    },
    {
      "cell_type": "code",
      "execution_count": null,
      "metadata": {
        "colab": {
          "base_uri": "https://localhost:8080/"
        },
        "id": "AF0X--LySzQS",
        "outputId": "86549ada-dd39-45f4-89b0-77d07c00abbb"
      },
      "outputs": [
        {
          "output_type": "execute_result",
          "data": {
            "text/plain": [
              "array([[-0.86240942,  0.43733601,  0.77552924, ...,  0.22440757,\n",
              "        -0.855151  , -0.79745978],\n",
              "       [-0.86240942, -1.34393038,  0.11646608, ..., -2.28311533,\n",
              "         1.23771855, -0.79745978],\n",
              "       [ 1.15954207, -0.45329718,  0.67926159, ...,  0.43336781,\n",
              "         0.54009537,  0.58447363],\n",
              "       ...,\n",
              "       [-0.86240942, -1.34393038,  0.93103852, ..., -0.0106727 ,\n",
              "         1.23771855, -0.79745978],\n",
              "       [ 1.15954207,  0.43733601,  0.09425046, ..., -0.95099379,\n",
              "        -0.855151  ,  0.58447363],\n",
              "       [-0.86240942, -1.34393038,  1.56048087, ...,  0.43336781,\n",
              "         1.23771855, -0.79745978]])"
            ]
          },
          "metadata": {},
          "execution_count": 107
        }
      ],
      "source": [
        "X_trainval_scaled"
      ]
    },
    {
      "cell_type": "code",
      "execution_count": null,
      "metadata": {
        "colab": {
          "base_uri": "https://localhost:8080/",
          "height": 364
        },
        "id": "BrTHWPG0SzQT",
        "outputId": "df4c857e-6872-4a66-a1f5-cd999b0ffe75"
      },
      "outputs": [
        {
          "output_type": "execute_result",
          "data": {
            "text/plain": [
              "              M/F         SES         ASF         Age         eTIV  \\\n",
              "count  279.000000  279.000000  279.000000  279.000000   279.000000   \n",
              "mean     0.426523    2.508961    1.201272   76.942652  1480.064516   \n",
              "std      0.495460    1.124814    0.135283    7.554855   172.413891   \n",
              "min      0.000000    1.000000    0.883000   60.000000  1106.000000   \n",
              "25%      0.000000    2.000000    1.118000   71.000000  1355.500000   \n",
              "50%      0.000000    2.000000    1.205000   77.000000  1457.000000   \n",
              "75%      1.000000    3.000000    1.294500   82.000000  1569.000000   \n",
              "max      1.000000    5.000000    1.587000   96.000000  1987.000000   \n",
              "\n",
              "             MMSE        nWBV        EDUC         CDR  \n",
              "count  279.000000  279.000000  279.000000  279.000000  \n",
              "mean    27.286738    0.731409   14.451613    0.288530  \n",
              "std      3.757516    0.038354    2.872029    0.362462  \n",
              "min      4.000000    0.644000    6.000000    0.000000  \n",
              "25%     27.000000    0.699500   12.000000    0.000000  \n",
              "50%     29.000000    0.732000   14.000000    0.000000  \n",
              "75%     30.000000    0.758000   16.000000    0.500000  \n",
              "max     30.000000    0.837000   23.000000    2.000000  "
            ],
            "text/html": [
              "\n",
              "  <div id=\"df-428c9a98-de8d-40ab-84ed-205281b4186b\">\n",
              "    <div class=\"colab-df-container\">\n",
              "      <div>\n",
              "<style scoped>\n",
              "    .dataframe tbody tr th:only-of-type {\n",
              "        vertical-align: middle;\n",
              "    }\n",
              "\n",
              "    .dataframe tbody tr th {\n",
              "        vertical-align: top;\n",
              "    }\n",
              "\n",
              "    .dataframe thead th {\n",
              "        text-align: right;\n",
              "    }\n",
              "</style>\n",
              "<table border=\"1\" class=\"dataframe\">\n",
              "  <thead>\n",
              "    <tr style=\"text-align: right;\">\n",
              "      <th></th>\n",
              "      <th>M/F</th>\n",
              "      <th>SES</th>\n",
              "      <th>ASF</th>\n",
              "      <th>Age</th>\n",
              "      <th>eTIV</th>\n",
              "      <th>MMSE</th>\n",
              "      <th>nWBV</th>\n",
              "      <th>EDUC</th>\n",
              "      <th>CDR</th>\n",
              "    </tr>\n",
              "  </thead>\n",
              "  <tbody>\n",
              "    <tr>\n",
              "      <th>count</th>\n",
              "      <td>279.000000</td>\n",
              "      <td>279.000000</td>\n",
              "      <td>279.000000</td>\n",
              "      <td>279.000000</td>\n",
              "      <td>279.000000</td>\n",
              "      <td>279.000000</td>\n",
              "      <td>279.000000</td>\n",
              "      <td>279.000000</td>\n",
              "      <td>279.000000</td>\n",
              "    </tr>\n",
              "    <tr>\n",
              "      <th>mean</th>\n",
              "      <td>0.426523</td>\n",
              "      <td>2.508961</td>\n",
              "      <td>1.201272</td>\n",
              "      <td>76.942652</td>\n",
              "      <td>1480.064516</td>\n",
              "      <td>27.286738</td>\n",
              "      <td>0.731409</td>\n",
              "      <td>14.451613</td>\n",
              "      <td>0.288530</td>\n",
              "    </tr>\n",
              "    <tr>\n",
              "      <th>std</th>\n",
              "      <td>0.495460</td>\n",
              "      <td>1.124814</td>\n",
              "      <td>0.135283</td>\n",
              "      <td>7.554855</td>\n",
              "      <td>172.413891</td>\n",
              "      <td>3.757516</td>\n",
              "      <td>0.038354</td>\n",
              "      <td>2.872029</td>\n",
              "      <td>0.362462</td>\n",
              "    </tr>\n",
              "    <tr>\n",
              "      <th>min</th>\n",
              "      <td>0.000000</td>\n",
              "      <td>1.000000</td>\n",
              "      <td>0.883000</td>\n",
              "      <td>60.000000</td>\n",
              "      <td>1106.000000</td>\n",
              "      <td>4.000000</td>\n",
              "      <td>0.644000</td>\n",
              "      <td>6.000000</td>\n",
              "      <td>0.000000</td>\n",
              "    </tr>\n",
              "    <tr>\n",
              "      <th>25%</th>\n",
              "      <td>0.000000</td>\n",
              "      <td>2.000000</td>\n",
              "      <td>1.118000</td>\n",
              "      <td>71.000000</td>\n",
              "      <td>1355.500000</td>\n",
              "      <td>27.000000</td>\n",
              "      <td>0.699500</td>\n",
              "      <td>12.000000</td>\n",
              "      <td>0.000000</td>\n",
              "    </tr>\n",
              "    <tr>\n",
              "      <th>50%</th>\n",
              "      <td>0.000000</td>\n",
              "      <td>2.000000</td>\n",
              "      <td>1.205000</td>\n",
              "      <td>77.000000</td>\n",
              "      <td>1457.000000</td>\n",
              "      <td>29.000000</td>\n",
              "      <td>0.732000</td>\n",
              "      <td>14.000000</td>\n",
              "      <td>0.000000</td>\n",
              "    </tr>\n",
              "    <tr>\n",
              "      <th>75%</th>\n",
              "      <td>1.000000</td>\n",
              "      <td>3.000000</td>\n",
              "      <td>1.294500</td>\n",
              "      <td>82.000000</td>\n",
              "      <td>1569.000000</td>\n",
              "      <td>30.000000</td>\n",
              "      <td>0.758000</td>\n",
              "      <td>16.000000</td>\n",
              "      <td>0.500000</td>\n",
              "    </tr>\n",
              "    <tr>\n",
              "      <th>max</th>\n",
              "      <td>1.000000</td>\n",
              "      <td>5.000000</td>\n",
              "      <td>1.587000</td>\n",
              "      <td>96.000000</td>\n",
              "      <td>1987.000000</td>\n",
              "      <td>30.000000</td>\n",
              "      <td>0.837000</td>\n",
              "      <td>23.000000</td>\n",
              "      <td>2.000000</td>\n",
              "    </tr>\n",
              "  </tbody>\n",
              "</table>\n",
              "</div>\n",
              "      <button class=\"colab-df-convert\" onclick=\"convertToInteractive('df-428c9a98-de8d-40ab-84ed-205281b4186b')\"\n",
              "              title=\"Convert this dataframe to an interactive table.\"\n",
              "              style=\"display:none;\">\n",
              "        \n",
              "  <svg xmlns=\"http://www.w3.org/2000/svg\" height=\"24px\"viewBox=\"0 0 24 24\"\n",
              "       width=\"24px\">\n",
              "    <path d=\"M0 0h24v24H0V0z\" fill=\"none\"/>\n",
              "    <path d=\"M18.56 5.44l.94 2.06.94-2.06 2.06-.94-2.06-.94-.94-2.06-.94 2.06-2.06.94zm-11 1L8.5 8.5l.94-2.06 2.06-.94-2.06-.94L8.5 2.5l-.94 2.06-2.06.94zm10 10l.94 2.06.94-2.06 2.06-.94-2.06-.94-.94-2.06-.94 2.06-2.06.94z\"/><path d=\"M17.41 7.96l-1.37-1.37c-.4-.4-.92-.59-1.43-.59-.52 0-1.04.2-1.43.59L10.3 9.45l-7.72 7.72c-.78.78-.78 2.05 0 2.83L4 21.41c.39.39.9.59 1.41.59.51 0 1.02-.2 1.41-.59l7.78-7.78 2.81-2.81c.8-.78.8-2.07 0-2.86zM5.41 20L4 18.59l7.72-7.72 1.47 1.35L5.41 20z\"/>\n",
              "  </svg>\n",
              "      </button>\n",
              "      \n",
              "  <style>\n",
              "    .colab-df-container {\n",
              "      display:flex;\n",
              "      flex-wrap:wrap;\n",
              "      gap: 12px;\n",
              "    }\n",
              "\n",
              "    .colab-df-convert {\n",
              "      background-color: #E8F0FE;\n",
              "      border: none;\n",
              "      border-radius: 50%;\n",
              "      cursor: pointer;\n",
              "      display: none;\n",
              "      fill: #1967D2;\n",
              "      height: 32px;\n",
              "      padding: 0 0 0 0;\n",
              "      width: 32px;\n",
              "    }\n",
              "\n",
              "    .colab-df-convert:hover {\n",
              "      background-color: #E2EBFA;\n",
              "      box-shadow: 0px 1px 2px rgba(60, 64, 67, 0.3), 0px 1px 3px 1px rgba(60, 64, 67, 0.15);\n",
              "      fill: #174EA6;\n",
              "    }\n",
              "\n",
              "    [theme=dark] .colab-df-convert {\n",
              "      background-color: #3B4455;\n",
              "      fill: #D2E3FC;\n",
              "    }\n",
              "\n",
              "    [theme=dark] .colab-df-convert:hover {\n",
              "      background-color: #434B5C;\n",
              "      box-shadow: 0px 1px 3px 1px rgba(0, 0, 0, 0.15);\n",
              "      filter: drop-shadow(0px 1px 2px rgba(0, 0, 0, 0.3));\n",
              "      fill: #FFFFFF;\n",
              "    }\n",
              "  </style>\n",
              "\n",
              "      <script>\n",
              "        const buttonEl =\n",
              "          document.querySelector('#df-428c9a98-de8d-40ab-84ed-205281b4186b button.colab-df-convert');\n",
              "        buttonEl.style.display =\n",
              "          google.colab.kernel.accessAllowed ? 'block' : 'none';\n",
              "\n",
              "        async function convertToInteractive(key) {\n",
              "          const element = document.querySelector('#df-428c9a98-de8d-40ab-84ed-205281b4186b');\n",
              "          const dataTable =\n",
              "            await google.colab.kernel.invokeFunction('convertToInteractive',\n",
              "                                                     [key], {});\n",
              "          if (!dataTable) return;\n",
              "\n",
              "          const docLinkHtml = 'Like what you see? Visit the ' +\n",
              "            '<a target=\"_blank\" href=https://colab.research.google.com/notebooks/data_table.ipynb>data table notebook</a>'\n",
              "            + ' to learn more about interactive tables.';\n",
              "          element.innerHTML = '';\n",
              "          dataTable['output_type'] = 'display_data';\n",
              "          await google.colab.output.renderOutput(dataTable, element);\n",
              "          const docLink = document.createElement('div');\n",
              "          docLink.innerHTML = docLinkHtml;\n",
              "          element.appendChild(docLink);\n",
              "        }\n",
              "      </script>\n",
              "    </div>\n",
              "  </div>\n",
              "  "
            ]
          },
          "metadata": {},
          "execution_count": 108
        }
      ],
      "source": [
        "X_trainval.describe()"
      ]
    },
    {
      "cell_type": "code",
      "execution_count": null,
      "metadata": {
        "colab": {
          "base_uri": "https://localhost:8080/",
          "height": 206
        },
        "id": "U5gyDLVLSzQU",
        "outputId": "539bdad2-ae35-454b-e2ef-7648cb2e439c"
      },
      "outputs": [
        {
          "output_type": "execute_result",
          "data": {
            "text/plain": [
              "     M/F  SES    ASF  Age  eTIV  MMSE   nWBV  EDUC  CDR\n",
              "260    0  3.0  1.306   77  1344  29.0  0.740    12  0.0\n",
              "270    0  1.0  1.217   82  1442  29.0  0.644    18  0.0\n",
              "10     1  2.0  1.293   71  1357  28.0  0.748    16  0.5\n",
              "51     1  2.0  1.134   64  1547  22.0  0.737    18  0.5\n",
              "20     0  2.0  1.326   80  1323  29.0  0.738    16  0.0"
            ],
            "text/html": [
              "\n",
              "  <div id=\"df-6e92af1a-a2f0-47d0-be66-a96143a968a8\">\n",
              "    <div class=\"colab-df-container\">\n",
              "      <div>\n",
              "<style scoped>\n",
              "    .dataframe tbody tr th:only-of-type {\n",
              "        vertical-align: middle;\n",
              "    }\n",
              "\n",
              "    .dataframe tbody tr th {\n",
              "        vertical-align: top;\n",
              "    }\n",
              "\n",
              "    .dataframe thead th {\n",
              "        text-align: right;\n",
              "    }\n",
              "</style>\n",
              "<table border=\"1\" class=\"dataframe\">\n",
              "  <thead>\n",
              "    <tr style=\"text-align: right;\">\n",
              "      <th></th>\n",
              "      <th>M/F</th>\n",
              "      <th>SES</th>\n",
              "      <th>ASF</th>\n",
              "      <th>Age</th>\n",
              "      <th>eTIV</th>\n",
              "      <th>MMSE</th>\n",
              "      <th>nWBV</th>\n",
              "      <th>EDUC</th>\n",
              "      <th>CDR</th>\n",
              "    </tr>\n",
              "  </thead>\n",
              "  <tbody>\n",
              "    <tr>\n",
              "      <th>260</th>\n",
              "      <td>0</td>\n",
              "      <td>3.0</td>\n",
              "      <td>1.306</td>\n",
              "      <td>77</td>\n",
              "      <td>1344</td>\n",
              "      <td>29.0</td>\n",
              "      <td>0.740</td>\n",
              "      <td>12</td>\n",
              "      <td>0.0</td>\n",
              "    </tr>\n",
              "    <tr>\n",
              "      <th>270</th>\n",
              "      <td>0</td>\n",
              "      <td>1.0</td>\n",
              "      <td>1.217</td>\n",
              "      <td>82</td>\n",
              "      <td>1442</td>\n",
              "      <td>29.0</td>\n",
              "      <td>0.644</td>\n",
              "      <td>18</td>\n",
              "      <td>0.0</td>\n",
              "    </tr>\n",
              "    <tr>\n",
              "      <th>10</th>\n",
              "      <td>1</td>\n",
              "      <td>2.0</td>\n",
              "      <td>1.293</td>\n",
              "      <td>71</td>\n",
              "      <td>1357</td>\n",
              "      <td>28.0</td>\n",
              "      <td>0.748</td>\n",
              "      <td>16</td>\n",
              "      <td>0.5</td>\n",
              "    </tr>\n",
              "    <tr>\n",
              "      <th>51</th>\n",
              "      <td>1</td>\n",
              "      <td>2.0</td>\n",
              "      <td>1.134</td>\n",
              "      <td>64</td>\n",
              "      <td>1547</td>\n",
              "      <td>22.0</td>\n",
              "      <td>0.737</td>\n",
              "      <td>18</td>\n",
              "      <td>0.5</td>\n",
              "    </tr>\n",
              "    <tr>\n",
              "      <th>20</th>\n",
              "      <td>0</td>\n",
              "      <td>2.0</td>\n",
              "      <td>1.326</td>\n",
              "      <td>80</td>\n",
              "      <td>1323</td>\n",
              "      <td>29.0</td>\n",
              "      <td>0.738</td>\n",
              "      <td>16</td>\n",
              "      <td>0.0</td>\n",
              "    </tr>\n",
              "  </tbody>\n",
              "</table>\n",
              "</div>\n",
              "      <button class=\"colab-df-convert\" onclick=\"convertToInteractive('df-6e92af1a-a2f0-47d0-be66-a96143a968a8')\"\n",
              "              title=\"Convert this dataframe to an interactive table.\"\n",
              "              style=\"display:none;\">\n",
              "        \n",
              "  <svg xmlns=\"http://www.w3.org/2000/svg\" height=\"24px\"viewBox=\"0 0 24 24\"\n",
              "       width=\"24px\">\n",
              "    <path d=\"M0 0h24v24H0V0z\" fill=\"none\"/>\n",
              "    <path d=\"M18.56 5.44l.94 2.06.94-2.06 2.06-.94-2.06-.94-.94-2.06-.94 2.06-2.06.94zm-11 1L8.5 8.5l.94-2.06 2.06-.94-2.06-.94L8.5 2.5l-.94 2.06-2.06.94zm10 10l.94 2.06.94-2.06 2.06-.94-2.06-.94-.94-2.06-.94 2.06-2.06.94z\"/><path d=\"M17.41 7.96l-1.37-1.37c-.4-.4-.92-.59-1.43-.59-.52 0-1.04.2-1.43.59L10.3 9.45l-7.72 7.72c-.78.78-.78 2.05 0 2.83L4 21.41c.39.39.9.59 1.41.59.51 0 1.02-.2 1.41-.59l7.78-7.78 2.81-2.81c.8-.78.8-2.07 0-2.86zM5.41 20L4 18.59l7.72-7.72 1.47 1.35L5.41 20z\"/>\n",
              "  </svg>\n",
              "      </button>\n",
              "      \n",
              "  <style>\n",
              "    .colab-df-container {\n",
              "      display:flex;\n",
              "      flex-wrap:wrap;\n",
              "      gap: 12px;\n",
              "    }\n",
              "\n",
              "    .colab-df-convert {\n",
              "      background-color: #E8F0FE;\n",
              "      border: none;\n",
              "      border-radius: 50%;\n",
              "      cursor: pointer;\n",
              "      display: none;\n",
              "      fill: #1967D2;\n",
              "      height: 32px;\n",
              "      padding: 0 0 0 0;\n",
              "      width: 32px;\n",
              "    }\n",
              "\n",
              "    .colab-df-convert:hover {\n",
              "      background-color: #E2EBFA;\n",
              "      box-shadow: 0px 1px 2px rgba(60, 64, 67, 0.3), 0px 1px 3px 1px rgba(60, 64, 67, 0.15);\n",
              "      fill: #174EA6;\n",
              "    }\n",
              "\n",
              "    [theme=dark] .colab-df-convert {\n",
              "      background-color: #3B4455;\n",
              "      fill: #D2E3FC;\n",
              "    }\n",
              "\n",
              "    [theme=dark] .colab-df-convert:hover {\n",
              "      background-color: #434B5C;\n",
              "      box-shadow: 0px 1px 3px 1px rgba(0, 0, 0, 0.15);\n",
              "      filter: drop-shadow(0px 1px 2px rgba(0, 0, 0, 0.3));\n",
              "      fill: #FFFFFF;\n",
              "    }\n",
              "  </style>\n",
              "\n",
              "      <script>\n",
              "        const buttonEl =\n",
              "          document.querySelector('#df-6e92af1a-a2f0-47d0-be66-a96143a968a8 button.colab-df-convert');\n",
              "        buttonEl.style.display =\n",
              "          google.colab.kernel.accessAllowed ? 'block' : 'none';\n",
              "\n",
              "        async function convertToInteractive(key) {\n",
              "          const element = document.querySelector('#df-6e92af1a-a2f0-47d0-be66-a96143a968a8');\n",
              "          const dataTable =\n",
              "            await google.colab.kernel.invokeFunction('convertToInteractive',\n",
              "                                                     [key], {});\n",
              "          if (!dataTable) return;\n",
              "\n",
              "          const docLinkHtml = 'Like what you see? Visit the ' +\n",
              "            '<a target=\"_blank\" href=https://colab.research.google.com/notebooks/data_table.ipynb>data table notebook</a>'\n",
              "            + ' to learn more about interactive tables.';\n",
              "          element.innerHTML = '';\n",
              "          dataTable['output_type'] = 'display_data';\n",
              "          await google.colab.output.renderOutput(dataTable, element);\n",
              "          const docLink = document.createElement('div');\n",
              "          docLink.innerHTML = docLinkHtml;\n",
              "          element.appendChild(docLink);\n",
              "        }\n",
              "      </script>\n",
              "    </div>\n",
              "  </div>\n",
              "  "
            ]
          },
          "metadata": {},
          "execution_count": 109
        }
      ],
      "source": [
        "X_trainval.head()"
      ]
    },
    {
      "cell_type": "markdown",
      "source": [
        "#**SVM**"
      ],
      "metadata": {
        "id": "3prKmaM7XKDR"
      }
    },
    {
      "cell_type": "code",
      "execution_count": null,
      "metadata": {
        "colab": {
          "base_uri": "https://localhost:8080/",
          "height": 351
        },
        "id": "RgFay9lYSzQV",
        "outputId": "0b052843-a6c0-4d3b-d2b2-6b40721c431b"
      },
      "outputs": [
        {
          "output_type": "stream",
          "name": "stderr",
          "text": [
            "/usr/local/lib/python3.7/dist-packages/sklearn/utils/deprecation.py:87: FutureWarning: Function plot_confusion_matrix is deprecated; Function `plot_confusion_matrix` is deprecated in 1.0 and will be removed in 1.2. Use one of the class methods: ConfusionMatrixDisplay.from_predictions or ConfusionMatrixDisplay.from_estimator.\n",
            "  warnings.warn(msg, category=FutureWarning)\n"
          ]
        },
        {
          "output_type": "execute_result",
          "data": {
            "text/plain": [
              "<sklearn.metrics._plot.confusion_matrix.ConfusionMatrixDisplay at 0x7f2623163b50>"
            ]
          },
          "metadata": {},
          "execution_count": 110
        },
        {
          "output_type": "display_data",
          "data": {
            "text/plain": [
              "<Figure size 432x288 with 2 Axes>"
            ],
            "image/png": "[encoded data removed]"
          },
          "metadata": {
            "needs_background": "light"
          }
        }
      ],
      "source": [
        "clf_svm = SVC(random_state=21, C=10, gamma='scale', kernel='rbf')\n",
        "clf_svm.fit(X_trainval_scaled, y_trainval)\n",
        "\n",
        "plot_confusion_matrix(clf_svm, \n",
        "                      X_test_scaled, \n",
        "                      y_test, \n",
        "                      values_format='d', \n",
        "                      display_labels=['Nondemented', 'Demented'])"
      ]
    },
    {
      "cell_type": "code",
      "execution_count": null,
      "metadata": {
        "colab": {
          "base_uri": "https://localhost:8080/"
        },
        "id": "RuHjEOK7SzQV",
        "outputId": "a9c8cd1f-1e59-4663-e939-f054b3813ac7"
      },
      "outputs": [
        {
          "output_type": "stream",
          "name": "stdout",
          "text": [
            "Train accuracy  0.978494623655914\n",
            "Test accuracy  0.9680851063829787\n",
            "Test recall 0.9347826086956522\n",
            "Test AUC 0.9673913043478262\n",
            "F1 score  0.9662921348314606\n"
          ]
        }
      ],
      "source": [
        "train_score = 0\n",
        "test_score = 0\n",
        "test_recall = 0\n",
        "test_auc = 0\n",
        "\n",
        "train_score = clf_svm.score(X_trainval_scaled, y_trainval)\n",
        "test_score = clf_svm.score(X_test_scaled, y_test)\n",
        "y_predict = clf_svm.predict(X_test_scaled)\n",
        "\n",
        "test_recall = recall_score(y_test, y_predict)\n",
        "fpr, tpr, thresholds = roc_curve(y_test, y_predict)\n",
        "test_auc = auc(fpr, tpr)\n",
        "f1score = f1_score(y_test, y_predict)\n",
        "\n",
        "\n",
        "print(\"Train accuracy \", train_score)\n",
        "print(\"Test accuracy \", test_score)\n",
        "print(\"Test recall\", test_recall)\n",
        "print(\"Test AUC\", test_auc)\n",
        "print(\"F1 score \", f1score)"
      ]
    },
    {
      "cell_type": "code",
      "execution_count": null,
      "metadata": {
        "colab": {
          "base_uri": "https://localhost:8080/"
        },
        "id": "I4xMQFPfSzQW",
        "outputId": "91201cf8-b7b4-40e0-f30a-4583396f75e9"
      },
      "outputs": [
        {
          "output_type": "stream",
          "name": "stdout",
          "text": [
            "{'C': 3, 'gamma': 0.5, 'kernel': 'rbf'}\n"
          ]
        }
      ],
      "source": [
        "param_grid = [\n",
        "    {'C': [0.1,0.01, 0.5, 0.2, 1, 2, 3, 3.5, 4,5, 3.25, 4, 5, 6, 7, 8, 9, 10, 30, 50, 80, 100],\n",
        "    'gamma': ['scale', 0.5, 1, 0.1, 0.01, 0.001, 0.0001, 0.00001],\n",
        "    'kernel': ['rbf', 'linear', 'poly', 'sigmoid']}\n",
        "]\n",
        "\n",
        "optimal_params = GridSearchCV(SVC(),\n",
        "                             param_grid,\n",
        "                             cv=5,\n",
        "                             scoring = 'accuracy'\n",
        "                             )\n",
        "\n",
        "optimal_params.fit(X_trainval_scaled, y_trainval)\n",
        "print(optimal_params.best_params_)"
      ]
    },
    {
      "cell_type": "code",
      "execution_count": null,
      "metadata": {
        "id": "hNH1r8n7SzQX"
      },
      "outputs": [],
      "source": [
        "C = optimal_params.best_params_['C']\n",
        "gamma = optimal_params.best_params_['gamma']\n",
        "kernel = optimal_params.best_params_['kernel']"
      ]
    },
    {
      "cell_type": "code",
      "execution_count": null,
      "metadata": {
        "colab": {
          "base_uri": "https://localhost:8080/",
          "height": 351
        },
        "id": "n6UY7lIESzQX",
        "outputId": "6ef87d04-4ca9-461c-ad75-d26defb11f85"
      },
      "outputs": [
        {
          "output_type": "stream",
          "name": "stderr",
          "text": [
            "/usr/local/lib/python3.7/dist-packages/sklearn/utils/deprecation.py:87: FutureWarning: Function plot_confusion_matrix is deprecated; Function `plot_confusion_matrix` is deprecated in 1.0 and will be removed in 1.2. Use one of the class methods: ConfusionMatrixDisplay.from_predictions or ConfusionMatrixDisplay.from_estimator.\n",
            "  warnings.warn(msg, category=FutureWarning)\n"
          ]
        },
        {
          "output_type": "execute_result",
          "data": {
            "text/plain": [
              "<sklearn.metrics._plot.confusion_matrix.ConfusionMatrixDisplay at 0x7f2622e8cb90>"
            ]
          },
          "metadata": {},
          "execution_count": 114
        },
        {
          "output_type": "display_data",
          "data": {
            "text/plain": [
              "<Figure size 432x288 with 2 Axes>"
            ],
            "image/png": "[encoded data removed]"
          },
          "metadata": {
            "needs_background": "light"
          }
        }
      ],
      "source": [
        "clf_svm = SVC(random_state=21, C=C, gamma=gamma, kernel=kernel)\n",
        "clf_svm.fit(X_trainval_scaled, y_trainval)\n",
        "\n",
        "plot_confusion_matrix(clf_svm, \n",
        "                      X_test_scaled, \n",
        "                      y_test, \n",
        "                      values_format='d', \n",
        "                      display_labels=['Nondemented', 'Demented'])"
      ]
    },
    {
      "cell_type": "code",
      "execution_count": null,
      "metadata": {
        "colab": {
          "base_uri": "https://localhost:8080/"
        },
        "id": "lM6tEujuSzQX",
        "outputId": "29b8959a-60ec-4296-f474-4a59a0791f80"
      },
      "outputs": [
        {
          "output_type": "stream",
          "name": "stdout",
          "text": [
            "Train accuracy  0.996415770609319\n",
            "Test accuracy  0.9468085106382979\n",
            "Test recall 0.9347826086956522\n",
            "Test AUC 0.9465579710144929\n",
            "F1 score  0.945054945054945\n"
          ]
        }
      ],
      "source": [
        "train_score = 0\n",
        "test_score = 0\n",
        "test_recall = 0\n",
        "test_auc = 0\n",
        "\n",
        "train_score = clf_svm.score(X_trainval_scaled, y_trainval)\n",
        "test_score = clf_svm.score(X_test_scaled, y_test)\n",
        "y_predict = clf_svm.predict(X_test_scaled)\n",
        "\n",
        "test_recall = recall_score(y_test, y_predict)\n",
        "svm_fpr, svm_tpr, thresholds = roc_curve(y_test, y_predict)\n",
        "test_auc = auc(svm_fpr, svm_tpr)\n",
        "f1score = f1_score(y_test, y_predict)\n",
        "\n",
        "print(\"Train accuracy \", train_score)\n",
        "print(\"Test accuracy \", test_score)\n",
        "print(\"Test recall\", test_recall)\n",
        "print(\"Test AUC\", test_auc)\n",
        "print(\"F1 score \", f1score)"
      ]
    },
    {
      "cell_type": "markdown",
      "source": [
        "#**DECISION** **TREE**"
      ],
      "metadata": {
        "id": "sV9Mlxu-X-yX"
      }
    },
    {
      "cell_type": "code",
      "source": [
        "from sklearn.preprocessing import LabelEncoder\n",
        "from sklearn.model_selection import train_test_split\n",
        "from sklearn.tree import DecisionTreeClassifier\n",
        "from sklearn.metrics import classification_report, confusion_matrix\n",
        "from sklearn.tree import plot_tree\n",
        "from sklearn.preprocessing import StandardScaler"
      ],
      "metadata": {
        "id": "gZcRkutfYFTU"
      },
      "execution_count": null,
      "outputs": []
    },
    {
      "cell_type": "code",
      "source": [
        "clf_DTree = DecisionTreeClassifier()\n",
        "clf_DTree = clf_DTree.fit(X_trainval_scaled, y_trainval)\n",
        "\n",
        "# for test there are 94 cases\n",
        "plot_confusion_matrix(clf_DTree, \n",
        "                      X_test_scaled, \n",
        "                      y_test, \n",
        "                      values_format='d', \n",
        "                      display_labels=['Nondemented', 'Demented'])"
      ],
      "metadata": {
        "colab": {
          "base_uri": "https://localhost:8080/",
          "height": 351
        },
        "id": "0r1py0R7YNpf",
        "outputId": "404c3461-f197-44bf-ea0d-6e8be990d25a"
      },
      "execution_count": null,
      "outputs": [
        {
          "output_type": "stream",
          "name": "stderr",
          "text": [
            "/usr/local/lib/python3.7/dist-packages/sklearn/utils/deprecation.py:87: FutureWarning: Function plot_confusion_matrix is deprecated; Function `plot_confusion_matrix` is deprecated in 1.0 and will be removed in 1.2. Use one of the class methods: ConfusionMatrixDisplay.from_predictions or ConfusionMatrixDisplay.from_estimator.\n",
            "  warnings.warn(msg, category=FutureWarning)\n"
          ]
        },
        {
          "output_type": "execute_result",
          "data": {
            "text/plain": [
              "<sklearn.metrics._plot.confusion_matrix.ConfusionMatrixDisplay at 0x7f2622ab8d50>"
            ]
          },
          "metadata": {},
          "execution_count": 130
        },
        {
          "output_type": "display_data",
          "data": {
            "text/plain": [
              "<Figure size 432x288 with 2 Axes>"
            ],
            "image/png": "[encoded data removed]"
          },
          "metadata": {
            "needs_background": "light"
          }
        }
      ]
    },
    {
      "cell_type": "code",
      "source": [
        "train_score = 0\n",
        "test_score = 0\n",
        "test_recall = 0\n",
        "test_auc = 0\n",
        "\n",
        "train_score = clf_DTree.score(X_trainval_scaled, y_trainval)\n",
        "test_score = clf_DTree.score(X_test_scaled, y_test)\n",
        "y_predict = clf_DTree.predict(X_test_scaled)\n",
        "test_recall = recall_score(y_test, y_predict)\n",
        "fpr, tpr, thresholds = roc_curve(y_test, y_predict)\n",
        "test_auc = auc(fpr, tpr)\n",
        "precision = precision_score(y_test, y_predict)\n",
        "\n",
        "print(\"Train accuracy \", train_score)\n",
        "print(\"Test accuracy \", test_score)\n",
        "print(\"Test recall\", test_recall)\n",
        "print(\"Test AUC\", test_auc)\n",
        "print('F1 Score: %f' % f1_score(y_test, y_predict))\n",
        "print('Precision: ',precision)"
      ],
      "metadata": {
        "colab": {
          "base_uri": "https://localhost:8080/"
        },
        "id": "9_kKcnqYYSfQ",
        "outputId": "f95617cd-84ae-4ea2-ec7f-a5fbc5bfbeb5"
      },
      "execution_count": null,
      "outputs": [
        {
          "output_type": "stream",
          "name": "stdout",
          "text": [
            "Train accuracy  1.0\n",
            "Test accuracy  0.9468085106382979\n",
            "Test recall 0.9347826086956522\n",
            "Test AUC 0.9465579710144929\n",
            "F1 Score: 0.945055\n",
            "Precision:  0.9555555555555556\n"
          ]
        }
      ]
    },
    {
      "cell_type": "code",
      "source": [
        "param_grid = {'criterion': ['gini'],\n",
        "              'min_samples_split': range(1,10),\n",
        "              'max_depth': range(1,10),\n",
        "              'min_samples_leaf': range(1,5)}\n",
        "print(param_grid)"
      ],
      "metadata": {
        "colab": {
          "base_uri": "https://localhost:8080/"
        },
        "id": "LEb2UPDKYVhv",
        "outputId": "6c1acc28-f48e-45f0-e36f-ef5fed838486"
      },
      "execution_count": null,
      "outputs": [
        {
          "output_type": "stream",
          "name": "stdout",
          "text": [
            "{'criterion': ['gini'], 'min_samples_split': range(1, 10), 'max_depth': range(1, 10), 'min_samples_leaf': range(1, 5)}\n"
          ]
        }
      ]
    },
    {
      "cell_type": "code",
      "source": [
        "from sklearn.model_selection import GridSearchCV\n",
        "\n",
        "optimal_params = GridSearchCV(DecisionTreeClassifier(),\n",
        "                             param_grid,\n",
        "                             cv = 5, # 5-fold as in k-fold cross validation\n",
        "                             scoring = 'accuracy', \n",
        "                             verbose = 0,\n",
        "                             n_jobs = -1)\n",
        "\n",
        "optimal_params.fit(X_trainval_scaled, y_trainval)\n",
        "print(optimal_params.best_params_)"
      ],
      "metadata": {
        "id": "XJRGYx2HYXVk"
      },
      "execution_count": null,
      "outputs": []
    },
    {
      "cell_type": "code",
      "source": [
        "optimal_params.best_estimator_"
      ],
      "metadata": {
        "colab": {
          "base_uri": "https://localhost:8080/"
        },
        "id": "1OW9iQ-xYd2Q",
        "outputId": "fee474f8-8b4b-4c4e-a6b0-919d9f5d2e50"
      },
      "execution_count": null,
      "outputs": [
        {
          "output_type": "execute_result",
          "data": {
            "text/plain": [
              "DecisionTreeClassifier(max_depth=7, min_samples_split=4)"
            ]
          },
          "metadata": {},
          "execution_count": 134
        }
      ]
    },
    {
      "cell_type": "code",
      "source": [
        "best_max_depth = optimal_params.best_params_['max_depth']\n",
        "best_min_samples_leaf = optimal_params.best_params_['min_samples_leaf']\n",
        "best_min_samples_split = optimal_params.best_params_['min_samples_split']\n",
        "best_criterion = optimal_params.best_params_['criterion']\n",
        "\n",
        "dt_model = DecisionTreeClassifier(max_depth = best_max_depth, min_samples_leaf = best_min_samples_leaf, min_samples_split = best_min_samples_split, criterion = best_criterion).fit(X_trainval_scaled, y_trainval)\n",
        "\n",
        "# for test there are 94 cases\n",
        "plot_confusion_matrix(dt_model, \n",
        "                      X_test_scaled, \n",
        "                      y_test, \n",
        "                      values_format = 'd', \n",
        "                      display_labels = ['Nondemented', 'Demented'])"
      ],
      "metadata": {
        "colab": {
          "base_uri": "https://localhost:8080/",
          "height": 351
        },
        "id": "svYSYq4jYiAh",
        "outputId": "6414750f-d3c5-4cbc-f2ba-b927a925c63e"
      },
      "execution_count": null,
      "outputs": [
        {
          "output_type": "stream",
          "name": "stderr",
          "text": [
            "/usr/local/lib/python3.7/dist-packages/sklearn/utils/deprecation.py:87: FutureWarning: Function plot_confusion_matrix is deprecated; Function `plot_confusion_matrix` is deprecated in 1.0 and will be removed in 1.2. Use one of the class methods: ConfusionMatrixDisplay.from_predictions or ConfusionMatrixDisplay.from_estimator.\n",
            "  warnings.warn(msg, category=FutureWarning)\n"
          ]
        },
        {
          "output_type": "execute_result",
          "data": {
            "text/plain": [
              "<sklearn.metrics._plot.confusion_matrix.ConfusionMatrixDisplay at 0x7f26230e7750>"
            ]
          },
          "metadata": {},
          "execution_count": 135
        },
        {
          "output_type": "display_data",
          "data": {
            "text/plain": [
              "<Figure size 432x288 with 2 Axes>"
            ],
            "image/png": "[encoded data removed]"
          },
          "metadata": {
            "needs_background": "light"
          }
        }
      ]
    },
    {
      "cell_type": "code",
      "source": [
        "from sklearn.metrics import f1_score\n",
        "train_score = 0\n",
        "test_score = 0\n",
        "test_recall = 0\n",
        "test_auc = 0\n",
        "\n",
        "train_score = dt_model.score(X_trainval_scaled, y_trainval)\n",
        "test_score = dt_model.score(X_test_scaled, y_test)\n",
        "y_predict = dt_model.predict(X_test_scaled)\n",
        "\n",
        "test_recall = recall_score(y_test, y_predict)\n",
        "dt_fpr, dt_tpr, thresholds = roc_curve(y_test, y_predict)\n",
        "test_auc = auc(dt_fpr, dt_tpr)\n",
        "precision = precision_score(y_test, y_predict)\n",
        "\n",
        "print(\"Train accuracy \", train_score)\n",
        "print(\"Test accuracy \", test_score)\n",
        "print(\"Test recall\", test_recall)\n",
        "print(\"Test AUC\", test_auc)\n",
        "print('F1 Score: %f' % f1_score(y_test, y_predict))\n",
        "print('Precision: ',precision)"
      ],
      "metadata": {
        "colab": {
          "base_uri": "https://localhost:8080/"
        },
        "id": "oOBklKvDYplP",
        "outputId": "3c1550f8-1a33-45c3-a62b-0ec34f1a7aa5"
      },
      "execution_count": null,
      "outputs": [
        {
          "output_type": "stream",
          "name": "stdout",
          "text": [
            "Train accuracy  0.989247311827957\n",
            "Test accuracy  0.9574468085106383\n",
            "Test recall 0.9347826086956522\n",
            "Test AUC 0.9569746376811594\n",
            "F1 Score: 0.955556\n",
            "Precision:  0.9772727272727273\n"
          ]
        }
      ]
    },
    {
      "cell_type": "markdown",
      "source": [
        "#**NAIVE** **BAYES**"
      ],
      "metadata": {
        "id": "Z6uRpfzsXd4u"
      }
    },
    {
      "cell_type": "code",
      "execution_count": null,
      "metadata": {
        "colab": {
          "base_uri": "https://localhost:8080/"
        },
        "id": "K5W2uiyYSzQZ",
        "outputId": "ca177bb9-fe5d-45af-bf34-0bedaf495656"
      },
      "outputs": [
        {
          "output_type": "stream",
          "name": "stderr",
          "text": [
            "/usr/local/lib/python3.7/dist-packages/sklearn/utils/deprecation.py:87: FutureWarning: Function plot_confusion_matrix is deprecated; Function `plot_confusion_matrix` is deprecated in 1.0 and will be removed in 1.2. Use one of the class methods: ConfusionMatrixDisplay.from_predictions or ConfusionMatrixDisplay.from_estimator.\n",
            "  warnings.warn(msg, category=FutureWarning)\n"
          ]
        },
        {
          "output_type": "execute_result",
          "data": {
            "text/plain": [
              "<sklearn.metrics._plot.confusion_matrix.ConfusionMatrixDisplay at 0x7f2623101fd0>"
            ]
          },
          "metadata": {},
          "execution_count": 137
        },
        {
          "output_type": "display_data",
          "data": {
            "text/plain": [
              "<Figure size 432x288 with 2 Axes>"
            ],
            "image/png": "[encoded data removed]"
          },
          "metadata": {
            "needs_background": "light"
          }
        }
      ],
      "source": [
        "gnb = GaussianNB()\n",
        "gnb.fit(X_trainval_scaled, y_trainval)\n",
        "\n",
        "plot_confusion_matrix(gnb, \n",
        "                      X_test_scaled, \n",
        "                      y_test, \n",
        "                      values_format='d', \n",
        "                      display_labels=['Nondemented', 'Demented'])"
      ]
    },
    {
      "cell_type": "code",
      "execution_count": null,
      "metadata": {
        "colab": {
          "base_uri": "https://localhost:8080/"
        },
        "id": "OXnxzgHaSzQZ",
        "outputId": "398f7fc2-6a0d-4dc1-8fea-85f7dc3ddf52"
      },
      "outputs": [
        {
          "output_type": "stream",
          "name": "stdout",
          "text": [
            "Train accuracy  0.942652329749104\n",
            "Test accuracy  0.9574468085106383\n",
            "Test recall 0.9130434782608695\n",
            "Test AUC 0.9565217391304348\n",
            "F1 score  0.9545454545454545\n"
          ]
        }
      ],
      "source": [
        "train_score = 0\n",
        "test_score = 0\n",
        "test_recall = 0\n",
        "test_auc = 0\n",
        "\n",
        "train_score = gnb.score(X_trainval_scaled, y_trainval)\n",
        "test_score = gnb.score(X_test_scaled, y_test)\n",
        "y_predict = gnb.predict(X_test_scaled)\n",
        "\n",
        "test_recall = recall_score(y_test, y_predict)\n",
        "fpr, tpr, thresholds = roc_curve(y_test, y_predict)\n",
        "test_auc = auc(fpr, tpr)\n",
        "f1score = f1_score(y_test, y_predict)\n",
        "\n",
        "\n",
        "print(\"Train accuracy \", train_score)\n",
        "print(\"Test accuracy \", test_score)\n",
        "print(\"Test recall\", test_recall)\n",
        "print(\"Test AUC\", test_auc)\n",
        "print(\"F1 score \", f1score)"
      ]
    },
    {
      "cell_type": "code",
      "execution_count": null,
      "metadata": {
        "colab": {
          "base_uri": "https://localhost:8080/"
        },
        "id": "0gXW2ngFSzQa",
        "outputId": "98e93031-4a3f-4405-81e6-ebeffc3502a2"
      },
      "outputs": [
        {
          "output_type": "stream",
          "name": "stdout",
          "text": [
            "Fitting 10 folds for each of 5000 candidates, totalling 50000 fits\n",
            "{'var_smoothing': 0.09453554211781703}\n"
          ]
        }
      ],
      "source": [
        "param_grid_nb = {\n",
        "    'var_smoothing': np.logspace(0,-9, num=5000)\n",
        "}\n",
        "\n",
        "optimal_params_nb = GridSearchCV(GaussianNB(),\n",
        "                             param_grid_nb,\n",
        "                             cv=10,   \n",
        "                             verbose=1, \n",
        "                             scoring = 'accuracy'\n",
        "                             )\n",
        "\n",
        "optimal_params_nb.fit(X_trainval_scaled, y_trainval)\n",
        "print(optimal_params_nb.best_params_)"
      ]
    },
    {
      "cell_type": "code",
      "execution_count": null,
      "metadata": {
        "colab": {
          "base_uri": "https://localhost:8080/"
        },
        "id": "UP2Cpwm_SzQa",
        "outputId": "acb8a395-a13d-4094-d081-b41b49cd4d63"
      },
      "outputs": [
        {
          "output_type": "stream",
          "name": "stderr",
          "text": [
            "/usr/local/lib/python3.7/dist-packages/sklearn/utils/deprecation.py:87: FutureWarning: Function plot_confusion_matrix is deprecated; Function `plot_confusion_matrix` is deprecated in 1.0 and will be removed in 1.2. Use one of the class methods: ConfusionMatrixDisplay.from_predictions or ConfusionMatrixDisplay.from_estimator.\n",
            "  warnings.warn(msg, category=FutureWarning)\n"
          ]
        },
        {
          "output_type": "execute_result",
          "data": {
            "text/plain": [
              "<sklearn.metrics._plot.confusion_matrix.ConfusionMatrixDisplay at 0x7f261eba3690>"
            ]
          },
          "metadata": {},
          "execution_count": 140
        },
        {
          "output_type": "display_data",
          "data": {
            "text/plain": [
              "<Figure size 432x288 with 2 Axes>"
            ],
            "image/png": "[encoded data removed]"
          },
          "metadata": {
            "needs_background": "light"
          }
        }
      ],
      "source": [
        "gnb_ft = GaussianNB(var_smoothing = 0.08109270667833253)\n",
        "gnb_ft.fit(X_trainval_scaled, y_trainval)\n",
        "\n",
        "plot_confusion_matrix(gnb_ft, \n",
        "                      X_test_scaled, \n",
        "                      y_test, \n",
        "                      values_format='d', \n",
        "                      display_labels=['Nondemented', 'Demented'])"
      ]
    },
    {
      "cell_type": "code",
      "execution_count": null,
      "metadata": {
        "colab": {
          "base_uri": "https://localhost:8080/"
        },
        "id": "vC6E4dG9SzQa",
        "outputId": "25dddf38-d7f6-4f76-ccb3-08e297d34ced"
      },
      "outputs": [
        {
          "output_type": "stream",
          "name": "stdout",
          "text": [
            "Train accuracy  0.946236559139785\n",
            "Test accuracy  0.9574468085106383\n",
            "Test recall 0.9130434782608695\n",
            "Test AUC 0.9565217391304348\n",
            "F1 score  0.9545454545454545\n"
          ]
        }
      ],
      "source": [
        "train_score = 0\n",
        "test_score = 0\n",
        "test_recall = 0\n",
        "test_auc = 0\n",
        "\n",
        "train_score = gnb_ft.score(X_trainval_scaled, y_trainval)\n",
        "test_score = gnb_ft.score(X_test_scaled, y_test)\n",
        "y_predict = gnb_ft.predict(X_test_scaled)\n",
        "\n",
        "test_recall = recall_score(y_test, y_predict)\n",
        "fpr, tpr, thresholds = roc_curve(y_test, y_predict)\n",
        "test_auc = auc(fpr, tpr)\n",
        "f1score = f1_score(y_test, y_predict)\n",
        "\n",
        "\n",
        "print(\"Train accuracy \", train_score)\n",
        "print(\"Test accuracy \", test_score)\n",
        "print(\"Test recall\", test_recall)\n",
        "print(\"Test AUC\", test_auc)\n",
        "print(\"F1 score \", f1score)"
      ]
    },
    {
      "cell_type": "markdown",
      "metadata": {
        "id": "emPmbmZiSzQc"
      },
      "source": [
        "# **KNN**"
      ]
    },
    {
      "cell_type": "code",
      "execution_count": null,
      "metadata": {
        "colab": {
          "base_uri": "https://localhost:8080/"
        },
        "id": "Mp6dwg2hSzQc",
        "outputId": "728af79e-dd4e-40a2-d5c1-a42565145bc7"
      },
      "outputs": [
        {
          "output_type": "stream",
          "name": "stderr",
          "text": [
            "/usr/local/lib/python3.7/dist-packages/sklearn/utils/deprecation.py:87: FutureWarning: Function plot_confusion_matrix is deprecated; Function `plot_confusion_matrix` is deprecated in 1.0 and will be removed in 1.2. Use one of the class methods: ConfusionMatrixDisplay.from_predictions or ConfusionMatrixDisplay.from_estimator.\n",
            "  warnings.warn(msg, category=FutureWarning)\n"
          ]
        },
        {
          "output_type": "execute_result",
          "data": {
            "text/plain": [
              "<sklearn.metrics._plot.confusion_matrix.ConfusionMatrixDisplay at 0x7f2623251450>"
            ]
          },
          "metadata": {},
          "execution_count": 145
        },
        {
          "output_type": "display_data",
          "data": {
            "text/plain": [
              "<Figure size 432x288 with 2 Axes>"
            ],
            "image/png": "[encoded data removed]"
          },
          "metadata": {
            "needs_background": "light"
          }
        }
      ],
      "source": [
        "from sklearn.neighbors import KNeighborsClassifier\n",
        "knn = KNeighborsClassifier(n_neighbors=5)\n",
        "knn.fit(X_trainval_scaled, y_trainval)\n",
        "\n",
        "plot_confusion_matrix(knn, \n",
        "                      X_test_scaled, \n",
        "                      y_test, \n",
        "                      values_format='d', \n",
        "                      display_labels=['Nondemented', 'Demented'])"
      ]
    },
    {
      "cell_type": "code",
      "execution_count": null,
      "metadata": {
        "colab": {
          "base_uri": "https://localhost:8080/"
        },
        "id": "7vGuvfTMSzQd",
        "outputId": "26b4ed63-e8fb-4c3b-e824-3680527d2cff"
      },
      "outputs": [
        {
          "output_type": "stream",
          "name": "stdout",
          "text": [
            "Train accuracy  0.953405017921147\n",
            "Test accuracy  0.9148936170212766\n",
            "Test recall 0.8478260869565217\n",
            "Test AUC 0.9134963768115942\n",
            "F1 score  0.9069767441860466\n"
          ]
        }
      ],
      "source": [
        "train_score = 0\n",
        "test_score = 0\n",
        "test_recall = 0\n",
        "test_auc = 0\n",
        "\n",
        "train_score = knn.score(X_trainval_scaled, y_trainval)\n",
        "test_score = knn.score(X_test_scaled, y_test)\n",
        "y_predict = knn.predict(X_test_scaled)\n",
        "\n",
        "test_recall = recall_score(y_test, y_predict)\n",
        "fpr, tpr, thresholds = roc_curve(y_test, y_predict)\n",
        "test_auc = auc(fpr, tpr)\n",
        "f1score = f1_score(y_test, y_predict)\n",
        "\n",
        "\n",
        "print(\"Train accuracy \", train_score)\n",
        "print(\"Test accuracy \", test_score)\n",
        "print(\"Test recall\", test_recall)\n",
        "print(\"Test AUC\", test_auc)\n",
        "print(\"F1 score \", f1score)"
      ]
    },
    {
      "cell_type": "markdown",
      "metadata": {
        "id": "AhLh823aSzQd"
      },
      "source": [
        "# KNN Fine Tuning "
      ]
    },
    {
      "cell_type": "code",
      "execution_count": null,
      "metadata": {
        "colab": {
          "base_uri": "https://localhost:8080/"
        },
        "id": "bjPDjLXkSzQd",
        "outputId": "25f33ee4-00cb-4c7e-f04e-8a4003e739f4"
      },
      "outputs": [
        {
          "output_type": "execute_result",
          "data": {
            "text/plain": [
              "dict_keys(['algorithm', 'leaf_size', 'metric', 'metric_params', 'n_jobs', 'n_neighbors', 'p', 'weights'])"
            ]
          },
          "metadata": {},
          "execution_count": 147
        }
      ],
      "source": [
        "knn.get_params().keys()"
      ]
    },
    {
      "cell_type": "code",
      "execution_count": null,
      "metadata": {
        "id": "8x_SUPXmSzQd"
      },
      "outputs": [],
      "source": [
        "scaler = StandardScaler()"
      ]
    },
    {
      "cell_type": "code",
      "execution_count": null,
      "metadata": {
        "id": "6TdY8SynSzQd"
      },
      "outputs": [],
      "source": [
        "knn = KNeighborsClassifier()"
      ]
    },
    {
      "cell_type": "code",
      "execution_count": null,
      "metadata": {
        "id": "3ee_UPjQSzQe"
      },
      "outputs": [],
      "source": [
        "operations = [('scaler', scaler), ('knn', knn)]"
      ]
    },
    {
      "cell_type": "code",
      "execution_count": null,
      "metadata": {
        "id": "LyPVmayDSzQe"
      },
      "outputs": [],
      "source": [
        "from sklearn.pipeline import Pipeline"
      ]
    },
    {
      "cell_type": "code",
      "execution_count": null,
      "metadata": {
        "id": "z-FiVU5GSzQe"
      },
      "outputs": [],
      "source": [
        "pipe = Pipeline(operations)"
      ]
    },
    {
      "cell_type": "code",
      "execution_count": null,
      "metadata": {
        "id": "y636eCT_SzQe"
      },
      "outputs": [],
      "source": [
        "from sklearn.model_selection import GridSearchCV"
      ]
    },
    {
      "cell_type": "code",
      "execution_count": null,
      "metadata": {
        "id": "DOkMdAPQSzQe"
      },
      "outputs": [],
      "source": [
        "k_values = list(range(1,30))"
      ]
    },
    {
      "cell_type": "code",
      "execution_count": null,
      "metadata": {
        "id": "utJqKQxxSzQe"
      },
      "outputs": [],
      "source": [
        "param_grid = {\n",
        "    'knn__n_neighbors': k_values\n",
        "}"
      ]
    },
    {
      "cell_type": "code",
      "execution_count": null,
      "metadata": {
        "id": "_VGFSVWXSzQe"
      },
      "outputs": [],
      "source": [
        "full_cv_classifier = GridSearchCV(pipe,param_grid, cv=5, scoring = 'accuracy')"
      ]
    },
    {
      "cell_type": "code",
      "execution_count": null,
      "metadata": {
        "colab": {
          "base_uri": "https://localhost:8080/"
        },
        "id": "gcEOZipESzQf",
        "outputId": "318bd754-e241-4905-b397-9112648eacb2"
      },
      "outputs": [
        {
          "output_type": "execute_result",
          "data": {
            "text/plain": [
              "GridSearchCV(cv=5,\n",
              "             estimator=Pipeline(steps=[('scaler', StandardScaler()),\n",
              "                                       ('knn', KNeighborsClassifier())]),\n",
              "             param_grid={'knn__n_neighbors': [1, 2, 3, 4, 5, 6, 7, 8, 9, 10, 11,\n",
              "                                              12, 13, 14, 15, 16, 17, 18, 19,\n",
              "                                              20, 21, 22, 23, 24, 25, 26, 27,\n",
              "                                              28, 29]},\n",
              "             scoring='accuracy')"
            ]
          },
          "metadata": {},
          "execution_count": 157
        }
      ],
      "source": [
        "full_cv_classifier.fit(X_trainval_scaled, y_trainval)"
      ]
    },
    {
      "cell_type": "code",
      "execution_count": null,
      "metadata": {
        "colab": {
          "base_uri": "https://localhost:8080/"
        },
        "id": "qa1uRjKlSzQf",
        "outputId": "a24c51ec-dbda-4b00-bf0d-70a4fb9cdb60"
      },
      "outputs": [
        {
          "output_type": "execute_result",
          "data": {
            "text/plain": [
              "{'knn': KNeighborsClassifier(n_neighbors=1),\n",
              " 'knn__algorithm': 'auto',\n",
              " 'knn__leaf_size': 30,\n",
              " 'knn__metric': 'minkowski',\n",
              " 'knn__metric_params': None,\n",
              " 'knn__n_jobs': None,\n",
              " 'knn__n_neighbors': 1,\n",
              " 'knn__p': 2,\n",
              " 'knn__weights': 'uniform',\n",
              " 'memory': None,\n",
              " 'scaler': StandardScaler(),\n",
              " 'scaler__copy': True,\n",
              " 'scaler__with_mean': True,\n",
              " 'scaler__with_std': True,\n",
              " 'steps': [('scaler', StandardScaler()),\n",
              "  ('knn', KNeighborsClassifier(n_neighbors=1))],\n",
              " 'verbose': False}"
            ]
          },
          "metadata": {},
          "execution_count": 158
        }
      ],
      "source": [
        "full_cv_classifier.best_estimator_.get_params()"
      ]
    },
    {
      "cell_type": "code",
      "execution_count": null,
      "metadata": {
        "colab": {
          "base_uri": "https://localhost:8080/"
        },
        "id": "BobEa88HSzQf",
        "outputId": "b0d46d99-5631-456c-be4c-910795bc9aa8"
      },
      "outputs": [
        {
          "output_type": "stream",
          "name": "stderr",
          "text": [
            "/usr/local/lib/python3.7/dist-packages/sklearn/utils/deprecation.py:87: FutureWarning: Function plot_confusion_matrix is deprecated; Function `plot_confusion_matrix` is deprecated in 1.0 and will be removed in 1.2. Use one of the class methods: ConfusionMatrixDisplay.from_predictions or ConfusionMatrixDisplay.from_estimator.\n",
            "  warnings.warn(msg, category=FutureWarning)\n"
          ]
        },
        {
          "output_type": "execute_result",
          "data": {
            "text/plain": [
              "<sklearn.metrics._plot.confusion_matrix.ConfusionMatrixDisplay at 0x7f26216d6b50>"
            ]
          },
          "metadata": {},
          "execution_count": 159
        },
        {
          "output_type": "display_data",
          "data": {
            "text/plain": [
              "<Figure size 432x288 with 2 Axes>"
            ],
            "image/png": "[encoded data removed]"
          },
          "metadata": {
            "needs_background": "light"
          }
        }
      ],
      "source": [
        "from sklearn.neighbors import KNeighborsClassifier\n",
        "knn_ft = KNeighborsClassifier(n_neighbors=1, leaf_size=30, metric='minkowski', p=2, weights='uniform')\n",
        "knn_ft.fit(X_trainval_scaled, y_trainval)\n",
        "\n",
        "plot_confusion_matrix(knn_ft, \n",
        "                      X_test_scaled, \n",
        "                      y_test, \n",
        "                      values_format='d', \n",
        "                      display_labels=['Nondemented', 'Demented'])"
      ]
    },
    {
      "cell_type": "code",
      "execution_count": null,
      "metadata": {
        "colab": {
          "base_uri": "https://localhost:8080/"
        },
        "id": "XKMzJxlgSzQf",
        "outputId": "e3aab458-6ea3-4a69-964f-6809cfb25bd1"
      },
      "outputs": [
        {
          "output_type": "stream",
          "name": "stdout",
          "text": [
            "Train accuracy  1.0\n",
            "Test accuracy  0.9361702127659575\n",
            "Test recall 0.9130434782608695\n",
            "Test AUC 0.9356884057971016\n",
            "F1 score  0.9333333333333332\n"
          ]
        }
      ],
      "source": [
        "train_score = 0\n",
        "test_score = 0\n",
        "test_recall = 0\n",
        "test_auc = 0\n",
        "\n",
        "train_score = knn_ft.score(X_trainval_scaled, y_trainval)\n",
        "test_score = knn_ft.score(X_test_scaled, y_test)\n",
        "y_predict = knn_ft.predict(X_test_scaled)\n",
        "\n",
        "test_recall = recall_score(y_test, y_predict)\n",
        "fpr, tpr, thresholds = roc_curve(y_test, y_predict)\n",
        "test_auc = auc(fpr, tpr)\n",
        "f1score = f1_score(y_test, y_predict)\n",
        "\n",
        "\n",
        "print(\"Train accuracy \", train_score)\n",
        "print(\"Test accuracy \", test_score)\n",
        "print(\"Test recall\", test_recall)\n",
        "print(\"Test AUC\", test_auc)\n",
        "print(\"F1 score \", f1score)"
      ]
    }
  ],
  "metadata": {
    "accelerator": "GPU",
    "colab": {
      "provenance": []
    },
    "kernelspec": {
      "display_name": "Python 3",
      "language": "python",
      "name": "python3"
    },
    "language_info": {
      "codemirror_mode": {
        "name": "ipython",
        "version": 3
      },
      "file_extension": ".py",
      "mimetype": "text/x-python",
      "name": "python",
      "nbconvert_exporter": "python",
      "pygments_lexer": "ipython3",
      "version": "3.9.7"
    }
  },
  "nbformat": 4,
  "nbformat_minor": 0
}